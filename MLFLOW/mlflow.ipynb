{
 "cells": [
  {
   "cell_type": "code",
   "execution_count": 25,
   "metadata": {},
   "outputs": [],
   "source": [
    "import mlflow\n",
    "import mlflow.sklearn\n",
    "import pandas as pd\n",
    "from sklearn.model_selection import train_test_split\n",
    "from sklearn.feature_extraction.text import TfidfVectorizer\n",
    "from sklearn.linear_model import LogisticRegression\n",
    "from sklearn.ensemble import RandomForestClassifier\n",
    "from sklearn.svm import SVC\n",
    "from sklearn.tree import DecisionTreeClassifier\n",
    "from sklearn.ensemble import RandomForestClassifier, AdaBoostClassifier\n",
    "from sklearn.metrics import classification_report, accuracy_score, confusion_matrix\n",
    "from sklearn.model_selection import GridSearchCV\n",
    "import os\n",
    "from xgboost import XGBClassifier\n",
    "from sklearn.ensemble import AdaBoostClassifier\n",
    "import warnings\n",
    "warnings.filterwarnings('ignore')"
   ]
  },
  {
   "cell_type": "code",
   "execution_count": 35,
   "metadata": {},
   "outputs": [],
   "source": [
    "df = pd.read_csv('cleaned_amazon_reviews.csv')\n",
    "tfidf = TfidfVectorizer(max_features=5000)\n",
    "X = tfidf.fit_transform(df['Cleaned_Review'])\n",
    "y = df['Sentiment']"
   ]
  },
  {
   "cell_type": "code",
   "execution_count": 36,
   "metadata": {},
   "outputs": [
    {
     "data": {
      "text/plain": [
       "<20000x5000 sparse matrix of type '<class 'numpy.float64'>'\n",
       "\twith 550555 stored elements in Compressed Sparse Row format>"
      ]
     },
     "execution_count": 36,
     "metadata": {},
     "output_type": "execute_result"
    }
   ],
   "source": [
    "X"
   ]
  },
  {
   "cell_type": "code",
   "execution_count": 3,
   "metadata": {},
   "outputs": [],
   "source": [
    "X_train, X_test, y_train, y_test = train_test_split(X, y, test_size=0.2, random_state=42 , shuffle=True)\n"
   ]
  },
  {
   "cell_type": "markdown",
   "metadata": {},
   "source": [
    "LogisticRegression"
   ]
  },
  {
   "cell_type": "code",
   "execution_count": 13,
   "metadata": {},
   "outputs": [],
   "source": [
    "learning_rate = 0.002\n",
    "epochs = 3"
   ]
  },
  {
   "cell_type": "code",
   "execution_count": 14,
   "metadata": {},
   "outputs": [
    {
     "name": "stderr",
     "output_type": "stream",
     "text": [
      "2024/10/20 23:30:15 INFO mlflow.tracking.fluent: Experiment with name 'amazon_reviews' does not exist. Creating a new experiment.\n"
     ]
    },
    {
     "name": "stdout",
     "output_type": "stream",
     "text": [
      "Epoch 1/3 - Accuracy: 0.8423\n",
      "Epoch 2/3 - Accuracy: 0.8423\n",
      "Epoch 3/3 - Accuracy: 0.8423\n"
     ]
    },
    {
     "name": "stderr",
     "output_type": "stream",
     "text": [
      "2024/10/20 23:30:23 WARNING mlflow.models.model: Model logged without a signature and input example. Please set `input_example` parameter when logging the model to auto infer the model signature.\n"
     ]
    }
   ],
   "source": [
    "mlflow.set_experiment(\"amazon_reviews\")\n",
    "\n",
    "# Start an MLflow run\n",
    "with mlflow.start_run():\n",
    "\n",
    "    mlflow.set_tag(\"model_name\", \"LogisticRegression\")\n",
    "\n",
    "    # Log hyperparameters\n",
    "    mlflow.log_param(\"learning_rate\", learning_rate)\n",
    "    mlflow.log_param(\"epochs\", epochs)\n",
    "    \n",
    "\n",
    "    # Initialize and train the model\n",
    "    model = LogisticRegression( solver='liblinear', max_iter=100, warm_start=True)\n",
    "\n",
    "    for epoch in range(epochs):\n",
    "        model.fit(X_train, y_train)\n",
    "\n",
    "        # Predict and calculate accuracy\n",
    "        y_pred = model.predict(X_test)\n",
    "        accuracy = accuracy_score(y_test, y_pred)\n",
    "\n",
    "        # Log the accuracy as a metric\n",
    "        mlflow.log_metric(\"accuracy\", accuracy, step=epoch)\n",
    "        print(f\"Epoch {epoch+1}/{epochs} - Accuracy: {accuracy:.4f}\")\n",
    "\n",
    "    mlflow.sklearn.log_model(model, \"logistic_regression_model\")\n",
    "\n",
    "    # Save the model as an artifact\n",
    "    model_filename = \"logistic_regression_model.pkl\"\n",
    "    mlflow.sklearn.save_model(model, model_filename)\n",
    "\n",
    "    # Log the saved model as an artifact\n",
    "    mlflow.log_artifact(model_filename)\n"
   ]
  },
  {
   "cell_type": "code",
   "execution_count": 15,
   "metadata": {},
   "outputs": [
    {
     "name": "stdout",
     "output_type": "stream",
     "text": [
      "Epoch 1/3 - Accuracy: 0.8423\n",
      "Epoch 2/3 - Accuracy: 0.8423\n",
      "Epoch 3/3 - Accuracy: 0.8423\n"
     ]
    },
    {
     "name": "stderr",
     "output_type": "stream",
     "text": [
      "2024/10/20 23:32:59 WARNING mlflow.models.model: Model logged without a signature and input example. Please set `input_example` parameter when logging the model to auto infer the model signature.\n"
     ]
    }
   ],
   "source": [
    "learning_rate = 0.001\n",
    "mlflow.set_experiment(\"amazon_reviews\")\n",
    "\n",
    "# Start an MLflow run\n",
    "with mlflow.start_run():\n",
    "\n",
    "    mlflow.set_tag(\"model_name\", \"LogisticRegression\")\n",
    "\n",
    "    # Log hyperparameters\n",
    "    mlflow.log_param(\"learning_rate\", learning_rate)\n",
    "    mlflow.log_param(\"epochs\", epochs)\n",
    "    \n",
    "\n",
    "    # Initialize and train the model\n",
    "    model = LogisticRegression( solver='liblinear', max_iter=100, warm_start=True)\n",
    "\n",
    "    for epoch in range(epochs):\n",
    "        model.fit(X_train, y_train)\n",
    "\n",
    "        # Predict and calculate accuracy\n",
    "        y_pred = model.predict(X_test)\n",
    "        accuracy = accuracy_score(y_test, y_pred)\n",
    "\n",
    "        # Log the accuracy as a metric\n",
    "        mlflow.log_metric(\"accuracy\", accuracy, step=epoch)\n",
    "        print(f\"Epoch {epoch+1}/{epochs} - Accuracy: {accuracy:.4f}\")\n",
    "\n",
    "    mlflow.sklearn.log_model(model, \"logistic_regression_model\")\n",
    "\n",
    "    # Save the model as an artifact\n",
    "    model_filename = \"logistic_regression_model0.1.pkl\"\n",
    "    mlflow.sklearn.save_model(model, model_filename)\n",
    "\n",
    "    # Log the saved model as an artifact\n",
    "    mlflow.log_artifact(model_filename)\n"
   ]
  },
  {
   "cell_type": "markdown",
   "metadata": {},
   "source": [
    "SVC"
   ]
  },
  {
   "cell_type": "code",
   "execution_count": 7,
   "metadata": {},
   "outputs": [],
   "source": [
    "#SVC\n",
    "C = 1.0\n",
    "kernel = 'linear'"
   ]
  },
  {
   "cell_type": "code",
   "execution_count": 16,
   "metadata": {},
   "outputs": [
    {
     "name": "stdout",
     "output_type": "stream",
     "text": [
      "Epoch 1/3 - Accuracy: 0.6428\n",
      "Epoch 2/3 - Accuracy: 0.6428\n",
      "Epoch 3/3 - Accuracy: 0.6428\n"
     ]
    },
    {
     "name": "stderr",
     "output_type": "stream",
     "text": [
      "2024/10/20 23:36:10 WARNING mlflow.models.model: Model logged without a signature and input example. Please set `input_example` parameter when logging the model to auto infer the model signature.\n"
     ]
    }
   ],
   "source": [
    "mlflow.set_experiment(\"amazon_reviews\")\n",
    "\n",
    "with mlflow.start_run():\n",
    "\n",
    "    mlflow.set_tag(\"model_name\", \"SVC\")\n",
    "    # Log hyperparameters\n",
    "    mlflow.log_param(\"C\", C)\n",
    "    mlflow.log_param(\"kernel\", kernel)\n",
    "    mlflow.log_param(\"epochs\", epochs)\n",
    "\n",
    "    # Initialize and train the SVM model\n",
    "    model = SVC(C=C, kernel=kernel, max_iter=100, probability=True)\n",
    "\n",
    "    for epoch in range(epochs):\n",
    "        model.fit(X_train, y_train)\n",
    "\n",
    "        # Predict and calculate accuracy\n",
    "        y_pred = model.predict(X_test)\n",
    "        accuracy = accuracy_score(y_test, y_pred)\n",
    "\n",
    "        # Log the accuracy as a metric\n",
    "        mlflow.log_metric(\"accuracy\", accuracy, step=epoch)\n",
    "        print(f\"Epoch {epoch+1}/{epochs} - Accuracy: {accuracy:.4f}\")\n",
    "    \n",
    "    \n",
    "    mlflow.sklearn.log_model(model, \"SVC\")\n",
    "    # Save the model as an artifact\n",
    "    model_filename = \"svm_model.pkl\"\n",
    "    mlflow.sklearn.save_model(model, model_filename)\n",
    "\n",
    "    # Log the saved model as an artifact\n",
    "    mlflow.log_artifact(model_filename)\n"
   ]
  },
  {
   "cell_type": "code",
   "execution_count": null,
   "metadata": {},
   "outputs": [],
   "source": []
  },
  {
   "cell_type": "markdown",
   "metadata": {},
   "source": [
    "RandomForestClassifierSVC\n"
   ]
  },
  {
   "cell_type": "code",
   "execution_count": 18,
   "metadata": {},
   "outputs": [],
   "source": [
    "n_estimators = 200  \n",
    "max_depth = 10 "
   ]
  },
  {
   "cell_type": "code",
   "execution_count": 19,
   "metadata": {},
   "outputs": [
    {
     "name": "stdout",
     "output_type": "stream",
     "text": [
      "Epoch 1/3 - Accuracy: 0.7957\n",
      "Epoch 2/3 - Accuracy: 0.8000\n",
      "Epoch 3/3 - Accuracy: 0.8000\n"
     ]
    },
    {
     "name": "stderr",
     "output_type": "stream",
     "text": [
      "2024/10/20 23:43:30 WARNING mlflow.models.model: Model logged without a signature and input example. Please set `input_example` parameter when logging the model to auto infer the model signature.\n"
     ]
    }
   ],
   "source": [
    "mlflow.set_experiment(\"amazon_reviews\")\n",
    "\n",
    "with mlflow.start_run():\n",
    "\n",
    "    mlflow.set_tag(\"model_name\", \"RandomForestClassifier\")\n",
    "    mlflow.log_param(\"n_estimators\", n_estimators)\n",
    "    mlflow.log_param(\"max_depth\", max_depth)\n",
    "    mlflow.log_param(\"epochs\", epochs)\n",
    "\n",
    "\n",
    "    model = RandomForestClassifier(n_estimators=n_estimators, max_depth=max_depth)\n",
    "\n",
    "    for epoch in range(epochs):\n",
    "        model.fit(X_train, y_train)\n",
    "\n",
    "        \n",
    "        y_pred = model.predict(X_test)\n",
    "        accuracy = accuracy_score(y_test, y_pred)\n",
    "\n",
    "    \n",
    "        mlflow.log_metric(\"accuracy\", accuracy, step=epoch)\n",
    "        print(f\"Epoch {epoch+1}/{epochs} - Accuracy: {accuracy:.4f}\")\n",
    "\n",
    "    mlflow.sklearn.log_model(model, \"RandomForestClassifier\")\n",
    "    model_filename = \"random_forest_modell.pkl\"\n",
    "    mlflow.sklearn.save_model(model, model_filename)\n",
    "\n",
    "\n",
    "    mlflow.log_artifact(model_filename)\n"
   ]
  },
  {
   "cell_type": "markdown",
   "metadata": {},
   "source": [
    "Decision Tree"
   ]
  },
  {
   "cell_type": "code",
   "execution_count": 20,
   "metadata": {},
   "outputs": [],
   "source": [
    "max_depth = 10  \n",
    "min_samples_split = 4 "
   ]
  },
  {
   "cell_type": "code",
   "execution_count": 21,
   "metadata": {},
   "outputs": [
    {
     "name": "stdout",
     "output_type": "stream",
     "text": [
      "Epoch 1/3 - Accuracy: 0.6777\n",
      "Epoch 2/3 - Accuracy: 0.6757\n",
      "Epoch 3/3 - Accuracy: 0.6783\n"
     ]
    },
    {
     "name": "stderr",
     "output_type": "stream",
     "text": [
      "2024/10/20 23:46:08 WARNING mlflow.models.model: Model logged without a signature and input example. Please set `input_example` parameter when logging the model to auto infer the model signature.\n"
     ]
    }
   ],
   "source": [
    "mlflow.set_experiment(\"amazon_reviews\")\n",
    "\n",
    "with mlflow.start_run():\n",
    "\n",
    "    mlflow.set_tag(\"model_name\", \"DecisionTreeClassifier\")\n",
    "    # Log hyperparameters\n",
    "    mlflow.log_param(\"max_depth\", max_depth)\n",
    "    mlflow.log_param(\"min_samples_split\", min_samples_split)\n",
    "    mlflow.log_param(\"epochs\", epochs)\n",
    "\n",
    "    # Initialize and train the DecisionTree model\n",
    "    model = DecisionTreeClassifier(max_depth=max_depth, min_samples_split=min_samples_split)\n",
    "\n",
    "    for epoch in range(epochs):\n",
    "        model.fit(X_train, y_train)\n",
    "\n",
    "        # Predict and calculate accuracy\n",
    "        y_pred = model.predict(X_test)\n",
    "        accuracy = accuracy_score(y_test, y_pred)\n",
    "\n",
    "        # Log the accuracy as a metric\n",
    "        mlflow.log_metric(\"accuracy\", accuracy, step=epoch)\n",
    "        print(f\"Epoch {epoch+1}/{epochs} - Accuracy: {accuracy:.4f}\")\n",
    "    \n",
    "    mlflow.sklearn.log_model(model, \"DecisionTreeClassifier\")\n",
    "    # Save the model as an artifact\n",
    "    model_filename = \"decision_tree_modell.pkl\"\n",
    "    mlflow.sklearn.save_model(model, model_filename)\n",
    "\n",
    "    # Log the saved model as an artifact\n",
    "    mlflow.log_artifact(model_filename)\n"
   ]
  },
  {
   "cell_type": "code",
   "execution_count": 22,
   "metadata": {},
   "outputs": [],
   "source": [
    "learning_rate = 0.001\n",
    "n_estimators = 100\n",
    "epochs = 3"
   ]
  },
  {
   "cell_type": "code",
   "execution_count": 26,
   "metadata": {},
   "outputs": [
    {
     "name": "stdout",
     "output_type": "stream",
     "text": [
      "Epoch 1/3 - AdaBoost Accuracy: 0.5730\n",
      "Epoch 2/3 - AdaBoost Accuracy: 0.5730\n",
      "Epoch 3/3 - AdaBoost Accuracy: 0.5730\n"
     ]
    },
    {
     "name": "stderr",
     "output_type": "stream",
     "text": [
      "2024/10/21 01:19:42 WARNING mlflow.models.model: Model logged without a signature and input example. Please set `input_example` parameter when logging the model to auto infer the model signature.\n"
     ]
    }
   ],
   "source": [
    "mlflow.set_experiment(\"amazon_reviews\")\n",
    "with mlflow.start_run(run_name=\"AdaBoost\"):\n",
    "    mlflow.set_tag(\"model_name\", \"AdaBoost\")\n",
    "\n",
    "    # Log hyperparameters\n",
    "    mlflow.log_param(\"learning_rate\", learning_rate)\n",
    "    mlflow.log_param(\"n_estimators\", n_estimators)\n",
    "    mlflow.log_param(\"epochs\", epochs)\n",
    "\n",
    "    # Initialize and train the AdaBoost model\n",
    "    model = AdaBoostClassifier(learning_rate=learning_rate, n_estimators=n_estimators)\n",
    "\n",
    "    for epoch in range(epochs):\n",
    "        model.fit(X_train, y_train)\n",
    "\n",
    "        # Predict and calculate accuracy\n",
    "        y_pred = model.predict(X_test)\n",
    "        accuracy = accuracy_score(y_test, y_pred)\n",
    "\n",
    "        # Log the accuracy as a metric\n",
    "        mlflow.log_metric(\"accuracy\", accuracy, step=epoch)\n",
    "        print(f\"Epoch {epoch+1}/{epochs} - AdaBoost Accuracy: {accuracy:.4f}\")\n",
    "\n",
    "    mlflow.sklearn.log_model(model, \"ada_boost_model\")\n",
    "\n",
    "    # Save the model as an artifact\n",
    "    model_filename = \"ada_boost_model.pkl\"\n",
    "    mlflow.sklearn.save_model(model, model_filename)\n",
    "\n",
    "    # Log the saved model as an artifact\n",
    "    mlflow.log_artifact(model_filename)"
   ]
  },
  {
   "cell_type": "code",
   "execution_count": 27,
   "metadata": {},
   "outputs": [
    {
     "name": "stdout",
     "output_type": "stream",
     "text": [
      "Epoch 1/3 - XGBoost Accuracy: 0.6552\n",
      "Epoch 2/3 - XGBoost Accuracy: 0.6552\n",
      "Epoch 3/3 - XGBoost Accuracy: 0.6552\n"
     ]
    },
    {
     "name": "stderr",
     "output_type": "stream",
     "text": [
      "2024/10/21 01:22:18 WARNING mlflow.models.model: Model logged without a signature and input example. Please set `input_example` parameter when logging the model to auto infer the model signature.\n"
     ]
    }
   ],
   "source": [
    "mlflow.set_experiment(\"amazon_reviews\")\n",
    "with mlflow.start_run(run_name=\"XGBoost\"):\n",
    "    mlflow.set_tag(\"model_name\", \"XGBoost\")\n",
    "\n",
    "    # Log hyperparameters\n",
    "    mlflow.log_param(\"learning_rate\", learning_rate)\n",
    "    mlflow.log_param(\"n_estimators\", n_estimators)\n",
    "    mlflow.log_param(\"epochs\", epochs)\n",
    "\n",
    "    # Initialize and train the XGBoost model\n",
    "    model = XGBClassifier(learning_rate=learning_rate, n_estimators=n_estimators, use_label_encoder=False, eval_metric='logloss')\n",
    "\n",
    "    for epoch in range(epochs):\n",
    "        model.fit(X_train, y_train)\n",
    "\n",
    "        # Predict and calculate accuracy\n",
    "        y_pred = model.predict(X_test)\n",
    "        accuracy = accuracy_score(y_test, y_pred)\n",
    "\n",
    "        # Log the accuracy as a metric\n",
    "        mlflow.log_metric(\"accuracy\", accuracy, step=epoch)\n",
    "        print(f\"Epoch {epoch+1}/{epochs} - XGBoost Accuracy: {accuracy:.4f}\")\n",
    "\n",
    "    mlflow.sklearn.log_model(model, \"xg_boost_model\")\n",
    "\n",
    "    # Save the model as an artifact\n",
    "    model_filename = \"xg_boost_model.pkl\"\n",
    "    mlflow.sklearn.save_model(model, model_filename)\n",
    "\n",
    "    # Log the saved model as an artifact\n",
    "    mlflow.log_artifact(model_filename)"
   ]
  }
 ],
 "metadata": {
  "kernelspec": {
   "display_name": "base",
   "language": "python",
   "name": "python3"
  },
  "language_info": {
   "codemirror_mode": {
    "name": "ipython",
    "version": 3
   },
   "file_extension": ".py",
   "mimetype": "text/x-python",
   "name": "python",
   "nbconvert_exporter": "python",
   "pygments_lexer": "ipython3",
   "version": "3.11.5"
  }
 },
 "nbformat": 4,
 "nbformat_minor": 2
}
